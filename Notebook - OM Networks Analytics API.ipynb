{
 "cells": [
  {
   "cell_type": "markdown",
   "metadata": {},
   "source": [
    "# OpenMaker Network Analytics API"
   ]
  },
  {
   "cell_type": "markdown",
   "metadata": {},
   "source": [
    "The network Analytics module performs the following operations:\n",
    "1. Read data from the Capsule CRM\n",
    "2. Build a complex network according to competence similarity declared by Explorer members\n",
    "3. Show the Geographic network of the Explorer memebrs on a map\n",
    "4. Detects communities in the network and highlights the top 5 common competences in the communities\n",
    "\n",
    "Community detection algorithms are implemented to show which group of members are more connected and belong to different \"families\".\n",
    "\n",
    "### The API has the following routes\n",
    "- **/Network_map** to show the geograpic network of the community\n",
    "- **/Network_metrics** to show the network KPIs\n",
    "- **/OM_communities_map** to show the OpenMaker communities network in different colour and layers\n",
    "- **/OM_comm_tags to show** the 5 most common skill that characterise the communities\n",
    "\n",
    "### Python Package dependences\n",
    "\n",
    "In order to perperly work the API needs the following packages:\n",
    "- numpy\n",
    "- json\n",
    "- geopy\n",
    "- folium\n",
    "- igraph\n",
    "- flask\n",
    "- requests\n",
    "\n"
   ]
  },
  {
   "cell_type": "markdown",
   "metadata": {},
   "source": [
    "## Show the OpenMaker Geographic Network"
   ]
  },
  {
   "cell_type": "code",
   "execution_count": 19,
   "metadata": {
    "scrolled": false
   },
   "outputs": [
    {
     "data": {
      "text/html": [
       "<iframe src=http://localhost:5000/Network_map width=1000 height=500></iframe>"
      ],
      "text/plain": [
       "<IPython.core.display.HTML object>"
      ]
     },
     "execution_count": 19,
     "metadata": {},
     "output_type": "execute_result"
    }
   ],
   "source": [
    "import IPython\n",
    "\n",
    "InsightIP='http://localhost:5000/'\n",
    "API_route='Network_map'\n",
    "url=InsightIP+API_route\n",
    "iframe = '<iframe src=' + url + ' width=1000 height=500></iframe>'\n",
    "IPython.display.HTML(iframe)"
   ]
  },
  {
   "cell_type": "markdown",
   "metadata": {},
   "source": [
    "The user can navigate the map, and clicking with the mouse on a member information can be displayed (The current version shows the member's ID)\n",
    "\n",
    "## Show the network KPIs"
   ]
  },
  {
   "cell_type": "code",
   "execution_count": 68,
   "metadata": {},
   "outputs": [
    {
     "name": "stdout",
     "output_type": "stream",
     "text": [
      "---------------------------------------------\n",
      "Number of Explorer members= 408\n",
      "Number of links= 2648\n",
      "Network diameter= 8\n",
      "Network betweenness centrality= 0.151989522275\n",
      "---------------------------------------------\n"
     ]
    }
   ],
   "source": [
    "import requests\n",
    "import json\n",
    "\n",
    "InsightIP='http://localhost:5000'\n",
    "API_route='/Network_metrics'\n",
    "\n",
    "# send a request for a selected Twitter User\n",
    "request = API_route\n",
    "res = requests.get(InsightIP + request)\n",
    "metrics=res.json()\n",
    "print '---------------------------------------------'\n",
    "print 'Number of Explorer members=',metrics[0]\n",
    "print 'Number of links=',metrics[1]\n",
    "print 'Network diameter=', metrics[2]\n",
    "print 'Network betweenness centrality=',metrics[3]\n",
    "print '---------------------------------------------'"
   ]
  },
  {
   "cell_type": "markdown",
   "metadata": {},
   "source": [
    "## Community detection in the OM network\n"
   ]
  },
  {
   "cell_type": "code",
   "execution_count": 13,
   "metadata": {
    "scrolled": true
   },
   "outputs": [
    {
     "data": {
      "text/html": [
       "<iframe src=http://localhost:5000/OM_communities_map width=1000 height=500></iframe>"
      ],
      "text/plain": [
       "<IPython.core.display.HTML object>"
      ]
     },
     "execution_count": 13,
     "metadata": {},
     "output_type": "execute_result"
    }
   ],
   "source": [
    "import IPython\n",
    "\n",
    "InsightIP='http://localhost:5000'\n",
    "API_route='/OM_communities_map'\n",
    "url=InsightIP+API_route\n",
    "iframe = '<iframe src=' + url + ' width=1000 height=500></iframe>'\n",
    "IPython.display.HTML(iframe)"
   ]
  },
  {
   "cell_type": "markdown",
   "metadata": {},
   "source": [
    "Each community is displayed as a separate layer of the map. Selection can be made by clicking on the icon on the right corner and chosing the layer to be shown.\n",
    "\n",
    "## Showing most common competences in each community\n"
   ]
  },
  {
   "cell_type": "code",
   "execution_count": 70,
   "metadata": {},
   "outputs": [
    {
     "name": "stdout",
     "output_type": "stream",
     "text": [
      "---------------------------------------------\n",
      "Top 5 competences in community 0\n",
      "---------------------------------------------\n",
      "       Competence  Count\n",
      "0          Design     40\n",
      "1      Innovation     39\n",
      "2  Sustainability     13\n",
      "3      Creativity      5\n",
      "4              3d      4\n",
      "\n",
      "\n",
      "---------------------------------------------\n",
      "Top 5 competences in community 1\n",
      "---------------------------------------------\n",
      "           Competence  Count\n",
      "0              Design     25\n",
      "1               Maker     14\n",
      "2              Fablab     11\n",
      "3  Digitalfabrication     11\n",
      "4                  3d     10\n",
      "\n",
      "\n",
      "---------------------------------------------\n",
      "Top 5 competences in community 2\n",
      "---------------------------------------------\n",
      "   Competence  Count\n",
      "0  Innovation     21\n",
      "1   Education     21\n",
      "2      Social     10\n",
      "3    Research      9\n",
      "4       Share      9\n",
      "\n",
      "\n",
      "---------------------------------------------\n",
      "Top 5 competences in community 3\n",
      "---------------------------------------------\n",
      "         Competence  Count\n",
      "0        Innovation     22\n",
      "1        Creativity     14\n",
      "2          Software     12\n",
      "3       Development     11\n",
      "4  Socialinnovation      6\n",
      "\n",
      "\n",
      "---------------------------------------------\n",
      "Top 5 competences in community 4\n",
      "---------------------------------------------\n",
      "                 Competence  Count\n",
      "0                Innovation     30\n",
      "1               Engineering     23\n",
      "2  Research_and_development      9\n",
      "3          Socialinnovation      8\n",
      "4                  Research      8\n",
      "\n",
      "\n",
      "---------------------------------------------\n",
      "Top 5 competences in community 5\n",
      "---------------------------------------------\n",
      "      Competence  Count\n",
      "0       Creative     24\n",
      "1         Design     19\n",
      "2     Innovation     10\n",
      "3       Material      4\n",
      "4  Manufacturing      4\n",
      "\n",
      "\n",
      "---------------------------------------------\n"
     ]
    }
   ],
   "source": [
    "import pandas as pd\n",
    "import requests\n",
    "import json\n",
    "\n",
    "InsightIP='http://localhost:5000'\n",
    "API_route='/OM_comm_tags'\n",
    "\n",
    "# send a request for a selected Twitter User\n",
    "request = API_route\n",
    "res = requests.get(InsightIP + request)\n",
    "comm_skills=res.json()\n",
    "\n",
    "\n",
    "comm=0\n",
    "print '---------------------------------------------'\n",
    "for i in comm_skills:\n",
    "    skill=[]\n",
    "    count=[]\n",
    "    for j in i:\n",
    "        skill.append(j[0])\n",
    "        count.append(j[1])\n",
    "    \n",
    "    d = {'Competence': skill, 'Count': count}\n",
    "\n",
    "    skills_list = pd.DataFrame.from_dict(d)\n",
    "    #skills_list = skills_list.rename(columns={'index': 'Count', 0:'Competence'})\n",
    "    skills_list = skills_list.sort_values('Count', ascending=False).reset_index(drop=True)\n",
    "\n",
    "    print(\"Top 5 competences in community \"+str(comm) )\n",
    "    print '---------------------------------------------'\n",
    "    print skills_list\n",
    "    print '\\n'\n",
    "    print '---------------------------------------------'\n",
    "    comm = comm+1"
   ]
  },
  {
   "cell_type": "code",
   "execution_count": null,
   "metadata": {},
   "outputs": [],
   "source": []
  }
 ],
 "metadata": {
  "kernelspec": {
   "display_name": "Python 2",
   "language": "python",
   "name": "python2"
  },
  "language_info": {
   "codemirror_mode": {
    "name": "ipython",
    "version": 2
   },
   "file_extension": ".py",
   "mimetype": "text/x-python",
   "name": "python",
   "nbconvert_exporter": "python",
   "pygments_lexer": "ipython2",
   "version": "2.7.14"
  }
 },
 "nbformat": 4,
 "nbformat_minor": 2
}
